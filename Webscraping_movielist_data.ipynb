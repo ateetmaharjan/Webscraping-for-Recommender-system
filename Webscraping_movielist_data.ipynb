{
 "cells": [
  {
   "cell_type": "markdown",
   "metadata": {},
   "source": [
    "# WEB SCRAPING MOVIE LIST DATA SET AND BUILD A SIMPLE RECOMMENDER"
   ]
  },
  {
   "cell_type": "code",
   "execution_count": 2,
   "metadata": {
    "colab": {},
    "colab_type": "code",
    "id": "gDaj0d6h95Mb"
   },
   "outputs": [],
   "source": [
    "# Import Required Libraries\n",
    "import pandas as pd   # pandas library for python data handling\n",
    "import numpy as np\n",
    "import requests\n",
    "import json\n",
    "# Import libraries from scikit learn for feature extraction. \n",
    "from sklearn.feature_extraction.text import TfidfVectorizer, CountVectorizer \n",
    "\n",
    "#pretty cell outputs: runs all codes in each cell\n",
    "from IPython.core.interactiveshell import InteractiveShell\n",
    "InteractiveShell.ast_node_interactivity = \"all\""
   ]
  },
  {
   "cell_type": "markdown",
   "metadata": {
    "colab_type": "text",
    "id": "9bKB6LcggEFx"
   },
   "source": [
    "## Getting Data from Yts movie website similar to imbd\n",
    "\n",
    "Please check the powerpoint file for Web scraping from API of the website \n",
    "\n",
    "Link to api:\n",
    "- https://yts.mx/api\n",
    "- https://yts.mx/api/v2/list_movies.json?page=1\n",
    "\n",
    "`Video Tutorial:`\n",
    "\n",
    "**Intro about google colab**\n",
    "https://youtu.be/OOpLBlnSLTY\n",
    "\n",
    "**Scraping list movies data from yts api**\n",
    "https://youtu.be/QMPsPrK0MDo\n",
    "\n",
    "\n"
   ]
  },
  {
   "cell_type": "markdown",
   "metadata": {
    "colab_type": "text",
    "id": "lMtx_RT9zXBH"
   },
   "source": [
    "## Scraping codes: to scrape data from the website"
   ]
  },
  {
   "cell_type": "code",
   "execution_count": null,
   "metadata": {
    "colab": {
     "base_uri": "https://localhost:8080/",
     "height": 1000
    },
    "colab_type": "code",
    "collapsed": true,
    "executionInfo": {
     "elapsed": 1766896,
     "status": "ok",
     "timestamp": 1588531144579,
     "user": {
      "displayName": "Ateet Maharjan",
      "photoUrl": "https://lh3.googleusercontent.com/a-/AOh14GgMg69jt0jHlF0Znx-X69CB5fJvcTbb-qd53TYUJCY=s64",
      "userId": "00997121521562654087"
     },
     "user_tz": 300
    },
    "id": "ath7c3B_tFsK",
    "jupyter": {
     "outputs_hidden": true
    },
    "outputId": "992f1f8f-5e89-451e-f035-8678db81e7ef"
   },
   "outputs": [],
   "source": [
    "#initializing variables for loop\n",
    "i = 1\n",
    "full_list = [] # creating empty array for storing movie data\n",
    "\n",
    "try:\n",
    "  # looping the page\n",
    "  while True:  \n",
    "      link = \"https://yts.mx/api/v2/list_movies.json?page=\"+str(i); #source for scraping\n",
    "      webScrape = requests.get(link)\n",
    "      validApi = webScrape.text\n",
    "\n",
    "      apiData = json.loads(validApi) # load json file\n",
    "      apiData_df=pd.DataFrame(apiData) # convert json to dataframe to ease access to the movies array\n",
    "      apiData_df.head()\n",
    "        \n",
    "      apiData_df_movies = apiData_df.loc[\"movies\",:] #locate movies array from dataframe\n",
    "      apiDataFrame = apiData_df_movies.data\n",
    "      for data in apiDataFrame:\n",
    "          full_list.append(data) #appending scraped data to full_List variable\n",
    "      i = i + 1 \n",
    "except: \n",
    "      apiDataFrame = False\n",
    "  #loop ends   #looping until the movie count reaches to 16843 (843 pages *20)\n",
    "\n",
    "# change filepath as required, you can copy filepath from google drive, or use local system filepath\n",
    "with open('list_movies_new.json', 'w') as fp:\n",
    "    json.dump([], fp) \n",
    "    pass\n",
    "#looking all the movie dict in the file\n",
    "with open('list_movies_new.json') as list_movies:\n",
    "    fileData = json.load(list_movies)\n",
    "    for x in full_list:\n",
    "        fileData.append(x)\n",
    "        \n",
    "#writing/appending all the movie dict from internet to the file        \n",
    "with open('list_movies_new.json', 'w') as update_movies_list:\n",
    "    json.dump(fileData, update_movies_list)"
   ]
  },
  {
   "cell_type": "markdown",
   "metadata": {
    "colab_type": "text",
    "id": "SWgHyAQxkRXu"
   },
   "source": [
    "**Move the downloaded file to your drive to save it for future use and to load the file directly for analysis**"
   ]
  }
 ],
 "metadata": {
  "accelerator": "GPU",
  "colab": {
   "collapsed_sections": [],
   "name": "movierecommender_AM.ipynb",
   "provenance": []
  },
  "kernelspec": {
   "display_name": "Python 3",
   "language": "python",
   "name": "python3"
  },
  "language_info": {
   "codemirror_mode": {
    "name": "ipython",
    "version": 3
   },
   "file_extension": ".py",
   "mimetype": "text/x-python",
   "name": "python",
   "nbconvert_exporter": "python",
   "pygments_lexer": "ipython3",
   "version": "3.7.4-final"
  }
 },
 "nbformat": 4,
 "nbformat_minor": 4
}