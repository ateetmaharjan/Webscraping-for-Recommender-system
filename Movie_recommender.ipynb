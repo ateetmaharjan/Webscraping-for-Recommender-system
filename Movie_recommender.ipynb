{
 "cells": [
  {
   "cell_type": "markdown",
   "metadata": {},
   "source": [
    "# BUILD A SIMPLE RECOMMENDER"
   ]
  },
  {
   "cell_type": "code",
   "execution_count": 2,
   "metadata": {
    "colab": {},
    "colab_type": "code",
    "id": "gDaj0d6h95Mb"
   },
   "outputs": [],
   "source": [
    "# Import Required Libraries\n",
    "import pandas as pd   # pandas library for python data handling\n",
    "import numpy as np\n",
    "import requests\n",
    "import json\n",
    "# Import libraries from scikit learn for feature extraction. \n",
    "from sklearn.feature_extraction.text import TfidfVectorizer, CountVectorizer \n",
    "\n",
    "#pretty cell outputs: runs all codes in each cell\n",
    "from IPython.core.interactiveshell import InteractiveShell\n",
    "InteractiveShell.ast_node_interactivity = \"all\""
   ]
  },
  {
   "cell_type": "markdown",
   "metadata": {
    "colab_type": "text",
    "id": "9bKB6LcggEFx"
   },
   "source": [
    "## Getting Data from Yts movie website similar to imbd\n",
    "\n",
    "Please check the powerpoint file for Web scraping from API of the website \n",
    "\n",
    "Link to api:\n",
    "- https://yts.mx/api\n",
    "- https://yts.mx/api/v2/list_movies.json?page=1\n",
    "\n",
    "`Video Tutorial:`\n",
    "\n",
    "**Intro about google colab**\n",
    "https://youtu.be/OOpLBlnSLTY\n",
    "\n",
    "**Scraping list movies data from yts api**\n",
    "https://youtu.be/QMPsPrK0MDo\n",
    "\n",
    "\n"
   ]
  },
  {
   "cell_type": "markdown",
   "metadata": {
    "colab_type": "text",
    "id": "Ldk__7Al_nA4"
   },
   "source": [
    "## Read json file scraped from the website"
   ]
  },
  {
   "cell_type": "code",
   "execution_count": 3,
   "metadata": {
    "colab": {},
    "colab_type": "code",
    "id": "clCvagd3wUF5"
   },
   "outputs": [],
   "source": [
    "df = pd.read_json (\"./data/list_movies_new.json\")  #read json file  #CHANGE THE FILE PATH AS REQUIRED"
   ]
  },
  {
   "cell_type": "code",
   "execution_count": 4,
   "metadata": {
    "colab": {
     "base_uri": "https://localhost:8080/",
     "height": 600
    },
    "colab_type": "code",
    "executionInfo": {
     "elapsed": 558,
     "status": "ok",
     "timestamp": 1588531654153,
     "user": {
      "displayName": "Ateet Maharjan",
      "photoUrl": "https://lh3.googleusercontent.com/a-/AOh14GgMg69jt0jHlF0Znx-X69CB5fJvcTbb-qd53TYUJCY=s64",
      "userId": "00997121521562654087"
     },
     "user_tz": 300
    },
    "id": "GdpLcw4Y9f-j",
    "outputId": "f874d303-b4ba-4651-edbe-01c9df77d592"
   },
   "outputs": [
    {
     "output_type": "execute_result",
     "data": {
      "text/plain": "      id                                             url   imdb_code  \\\n0  17273       https://yts.mx/movie/the-big-picture-2010   tt1533818   \n1  17259               https://yts.mx/movie/thappad-2020  tt10964430   \n2  17258   https://yts.mx/movie/the-kid-with-a-bike-2011   tt1827512   \n3  17257  https://yts.mx/movie/enter-the-fat-dragon-2020   tt7335600   \n4  17256      https://yts.mx/movie/degree-of-murder-1967   tt0061992   \n\n                  title         title_english                   title_long  \\\n0       The Big Picture       The Big Picture       The Big Picture (2010)   \n1               Thappad               Thappad               Thappad (2020)   \n2   The Kid with a Bike   The Kid with a Bike   The Kid with a Bike (2011)   \n3  Enter the Fat Dragon  Enter the Fat Dragon  Enter the Fat Dragon (2020)   \n4      Degree of Murder      Degree of Murder      Degree of Murder (1967)   \n\n                        slug  year  rating  runtime  ... mpa_rating  \\\n0       the-big-picture-2010  2010     6.7        0  ...              \n1               thappad-2020  2020     7.1      142  ...              \n2   the-kid-with-a-bike-2011  2011     7.4       87  ...      PG-13   \n3  enter-the-fat-dragon-2020  2020     5.6       96  ...              \n4      degree-of-murder-1967  1967     6.4       87  ...              \n\n                                    background_image  \\\n0  https://yts.mx/assets/images/movies/the_big_pi...   \n1  https://yts.mx/assets/images/movies/thappad_20...   \n2  https://yts.mx/assets/images/movies/the_kid_wi...   \n3  https://yts.mx/assets/images/movies/enter_the_...   \n4  https://yts.mx/assets/images/movies/degree_of_...   \n\n                           background_image_original  \\\n0  https://yts.mx/assets/images/movies/the_big_pi...   \n1  https://yts.mx/assets/images/movies/thappad_20...   \n2  https://yts.mx/assets/images/movies/the_kid_wi...   \n3  https://yts.mx/assets/images/movies/enter_the_...   \n4  https://yts.mx/assets/images/movies/degree_of_...   \n\n                                   small_cover_image  \\\n0  https://yts.mx/assets/images/movies/the_big_pi...   \n1  https://yts.mx/assets/images/movies/thappad_20...   \n2  https://yts.mx/assets/images/movies/the_kid_wi...   \n3  https://yts.mx/assets/images/movies/enter_the_...   \n4  https://yts.mx/assets/images/movies/degree_of_...   \n\n                                  medium_cover_image  \\\n0  https://yts.mx/assets/images/movies/the_big_pi...   \n1  https://yts.mx/assets/images/movies/thappad_20...   \n2  https://yts.mx/assets/images/movies/the_kid_wi...   \n3  https://yts.mx/assets/images/movies/enter_the_...   \n4  https://yts.mx/assets/images/movies/degree_of_...   \n\n                                   large_cover_image state  \\\n0  https://yts.mx/assets/images/movies/the_big_pi...    ok   \n1  https://yts.mx/assets/images/movies/thappad_20...    ok   \n2  https://yts.mx/assets/images/movies/the_kid_wi...    ok   \n3  https://yts.mx/assets/images/movies/enter_the_...    ok   \n4  https://yts.mx/assets/images/movies/degree_of_...    ok   \n\n                                            torrents        date_uploaded  \\\n0  [{'url': 'https://yts.mx/torrent/download/000B...  2020-05-03 18:03:11   \n1  [{'url': 'https://yts.mx/torrent/download/96B5...  2020-05-03 16:18:57   \n2  [{'url': 'https://yts.mx/torrent/download/42FE...  2020-05-03 12:34:18   \n3  [{'url': 'https://yts.mx/torrent/download/EFD1...  2020-05-03 09:37:07   \n4  [{'url': 'https://yts.mx/torrent/download/0669...  2020-05-03 15:05:46   \n\n  date_uploaded_unix  \n0       1.588522e+09  \n1       1.588516e+09  \n2       1.588502e+09  \n3       1.588491e+09  \n4       1.588511e+09  \n\n[5 rows x 26 columns]",
      "text/html": "<div>\n<style scoped>\n    .dataframe tbody tr th:only-of-type {\n        vertical-align: middle;\n    }\n\n    .dataframe tbody tr th {\n        vertical-align: top;\n    }\n\n    .dataframe thead th {\n        text-align: right;\n    }\n</style>\n<table border=\"1\" class=\"dataframe\">\n  <thead>\n    <tr style=\"text-align: right;\">\n      <th></th>\n      <th>id</th>\n      <th>url</th>\n      <th>imdb_code</th>\n      <th>title</th>\n      <th>title_english</th>\n      <th>title_long</th>\n      <th>slug</th>\n      <th>year</th>\n      <th>rating</th>\n      <th>runtime</th>\n      <th>...</th>\n      <th>mpa_rating</th>\n      <th>background_image</th>\n      <th>background_image_original</th>\n      <th>small_cover_image</th>\n      <th>medium_cover_image</th>\n      <th>large_cover_image</th>\n      <th>state</th>\n      <th>torrents</th>\n      <th>date_uploaded</th>\n      <th>date_uploaded_unix</th>\n    </tr>\n  </thead>\n  <tbody>\n    <tr>\n      <th>0</th>\n      <td>17273</td>\n      <td>https://yts.mx/movie/the-big-picture-2010</td>\n      <td>tt1533818</td>\n      <td>The Big Picture</td>\n      <td>The Big Picture</td>\n      <td>The Big Picture (2010)</td>\n      <td>the-big-picture-2010</td>\n      <td>2010</td>\n      <td>6.7</td>\n      <td>0</td>\n      <td>...</td>\n      <td></td>\n      <td>https://yts.mx/assets/images/movies/the_big_pi...</td>\n      <td>https://yts.mx/assets/images/movies/the_big_pi...</td>\n      <td>https://yts.mx/assets/images/movies/the_big_pi...</td>\n      <td>https://yts.mx/assets/images/movies/the_big_pi...</td>\n      <td>https://yts.mx/assets/images/movies/the_big_pi...</td>\n      <td>ok</td>\n      <td>[{'url': 'https://yts.mx/torrent/download/000B...</td>\n      <td>2020-05-03 18:03:11</td>\n      <td>1.588522e+09</td>\n    </tr>\n    <tr>\n      <th>1</th>\n      <td>17259</td>\n      <td>https://yts.mx/movie/thappad-2020</td>\n      <td>tt10964430</td>\n      <td>Thappad</td>\n      <td>Thappad</td>\n      <td>Thappad (2020)</td>\n      <td>thappad-2020</td>\n      <td>2020</td>\n      <td>7.1</td>\n      <td>142</td>\n      <td>...</td>\n      <td></td>\n      <td>https://yts.mx/assets/images/movies/thappad_20...</td>\n      <td>https://yts.mx/assets/images/movies/thappad_20...</td>\n      <td>https://yts.mx/assets/images/movies/thappad_20...</td>\n      <td>https://yts.mx/assets/images/movies/thappad_20...</td>\n      <td>https://yts.mx/assets/images/movies/thappad_20...</td>\n      <td>ok</td>\n      <td>[{'url': 'https://yts.mx/torrent/download/96B5...</td>\n      <td>2020-05-03 16:18:57</td>\n      <td>1.588516e+09</td>\n    </tr>\n    <tr>\n      <th>2</th>\n      <td>17258</td>\n      <td>https://yts.mx/movie/the-kid-with-a-bike-2011</td>\n      <td>tt1827512</td>\n      <td>The Kid with a Bike</td>\n      <td>The Kid with a Bike</td>\n      <td>The Kid with a Bike (2011)</td>\n      <td>the-kid-with-a-bike-2011</td>\n      <td>2011</td>\n      <td>7.4</td>\n      <td>87</td>\n      <td>...</td>\n      <td>PG-13</td>\n      <td>https://yts.mx/assets/images/movies/the_kid_wi...</td>\n      <td>https://yts.mx/assets/images/movies/the_kid_wi...</td>\n      <td>https://yts.mx/assets/images/movies/the_kid_wi...</td>\n      <td>https://yts.mx/assets/images/movies/the_kid_wi...</td>\n      <td>https://yts.mx/assets/images/movies/the_kid_wi...</td>\n      <td>ok</td>\n      <td>[{'url': 'https://yts.mx/torrent/download/42FE...</td>\n      <td>2020-05-03 12:34:18</td>\n      <td>1.588502e+09</td>\n    </tr>\n    <tr>\n      <th>3</th>\n      <td>17257</td>\n      <td>https://yts.mx/movie/enter-the-fat-dragon-2020</td>\n      <td>tt7335600</td>\n      <td>Enter the Fat Dragon</td>\n      <td>Enter the Fat Dragon</td>\n      <td>Enter the Fat Dragon (2020)</td>\n      <td>enter-the-fat-dragon-2020</td>\n      <td>2020</td>\n      <td>5.6</td>\n      <td>96</td>\n      <td>...</td>\n      <td></td>\n      <td>https://yts.mx/assets/images/movies/enter_the_...</td>\n      <td>https://yts.mx/assets/images/movies/enter_the_...</td>\n      <td>https://yts.mx/assets/images/movies/enter_the_...</td>\n      <td>https://yts.mx/assets/images/movies/enter_the_...</td>\n      <td>https://yts.mx/assets/images/movies/enter_the_...</td>\n      <td>ok</td>\n      <td>[{'url': 'https://yts.mx/torrent/download/EFD1...</td>\n      <td>2020-05-03 09:37:07</td>\n      <td>1.588491e+09</td>\n    </tr>\n    <tr>\n      <th>4</th>\n      <td>17256</td>\n      <td>https://yts.mx/movie/degree-of-murder-1967</td>\n      <td>tt0061992</td>\n      <td>Degree of Murder</td>\n      <td>Degree of Murder</td>\n      <td>Degree of Murder (1967)</td>\n      <td>degree-of-murder-1967</td>\n      <td>1967</td>\n      <td>6.4</td>\n      <td>87</td>\n      <td>...</td>\n      <td></td>\n      <td>https://yts.mx/assets/images/movies/degree_of_...</td>\n      <td>https://yts.mx/assets/images/movies/degree_of_...</td>\n      <td>https://yts.mx/assets/images/movies/degree_of_...</td>\n      <td>https://yts.mx/assets/images/movies/degree_of_...</td>\n      <td>https://yts.mx/assets/images/movies/degree_of_...</td>\n      <td>ok</td>\n      <td>[{'url': 'https://yts.mx/torrent/download/0669...</td>\n      <td>2020-05-03 15:05:46</td>\n      <td>1.588511e+09</td>\n    </tr>\n  </tbody>\n</table>\n<p>5 rows × 26 columns</p>\n</div>"
     },
     "metadata": {},
     "execution_count": 4
    }
   ],
   "source": [
    "df.head() # shows top 5 rows of the dataframe"
   ]
  },
  {
   "cell_type": "code",
   "execution_count": 6,
   "metadata": {
    "colab": {
     "base_uri": "https://localhost:8080/",
     "height": 583
    },
    "colab_type": "code",
    "executionInfo": {
     "elapsed": 614,
     "status": "ok",
     "timestamp": 1588531620221,
     "user": {
      "displayName": "Ateet Maharjan",
      "photoUrl": "https://lh3.googleusercontent.com/a-/AOh14GgMg69jt0jHlF0Znx-X69CB5fJvcTbb-qd53TYUJCY=s64",
      "userId": "00997121521562654087"
     },
     "user_tz": 300
    },
    "id": "j7s_4XkOjT84",
    "outputId": "35ee1fa4-f2e3-4cfa-df08-7e1136fca1ad"
   },
   "outputs": [
    {
     "data": {
      "text/html": [
       "<div>\n",
       "<style scoped>\n",
       "    .dataframe tbody tr th:only-of-type {\n",
       "        vertical-align: middle;\n",
       "    }\n",
       "\n",
       "    .dataframe tbody tr th {\n",
       "        vertical-align: top;\n",
       "    }\n",
       "\n",
       "    .dataframe thead th {\n",
       "        text-align: right;\n",
       "    }\n",
       "</style>\n",
       "<table border=\"1\" class=\"dataframe\">\n",
       "  <thead>\n",
       "    <tr style=\"text-align: right;\">\n",
       "      <th></th>\n",
       "      <th>id</th>\n",
       "      <th>url</th>\n",
       "      <th>imdb_code</th>\n",
       "      <th>title</th>\n",
       "      <th>title_english</th>\n",
       "      <th>title_long</th>\n",
       "      <th>slug</th>\n",
       "      <th>year</th>\n",
       "      <th>rating</th>\n",
       "      <th>runtime</th>\n",
       "      <th>genres</th>\n",
       "      <th>summary</th>\n",
       "      <th>description_full</th>\n",
       "      <th>synopsis</th>\n",
       "      <th>yt_trailer_code</th>\n",
       "      <th>language</th>\n",
       "      <th>mpa_rating</th>\n",
       "      <th>background_image</th>\n",
       "      <th>background_image_original</th>\n",
       "      <th>small_cover_image</th>\n",
       "      <th>medium_cover_image</th>\n",
       "      <th>large_cover_image</th>\n",
       "      <th>state</th>\n",
       "      <th>torrents</th>\n",
       "      <th>date_uploaded</th>\n",
       "      <th>date_uploaded_unix</th>\n",
       "    </tr>\n",
       "  </thead>\n",
       "  <tbody>\n",
       "    <tr>\n",
       "      <th>13166</th>\n",
       "      <td>3709</td>\n",
       "      <td>https://yts.mx/movie/the-shawshank-redemption-...</td>\n",
       "      <td>tt0111161</td>\n",
       "      <td>The Shawshank Redemption</td>\n",
       "      <td>The Shawshank Redemption</td>\n",
       "      <td>The Shawshank Redemption (1994)</td>\n",
       "      <td>the-shawshank-redemption-1994</td>\n",
       "      <td>1994</td>\n",
       "      <td>9.3</td>\n",
       "      <td>142</td>\n",
       "      <td>[Action, Crime, Drama]</td>\n",
       "      <td>Chronicles the experiences of a formerly succe...</td>\n",
       "      <td>Chronicles the experiences of a formerly succe...</td>\n",
       "      <td>Chronicles the experiences of a formerly succe...</td>\n",
       "      <td>K_tLp7T6U1c</td>\n",
       "      <td>English</td>\n",
       "      <td>R</td>\n",
       "      <td>https://yts.mx/assets/images/movies/The_Shawsh...</td>\n",
       "      <td>https://yts.mx/assets/images/movies/The_Shawsh...</td>\n",
       "      <td>https://yts.mx/assets/images/movies/The_Shawsh...</td>\n",
       "      <td>https://yts.mx/assets/images/movies/The_Shawsh...</td>\n",
       "      <td>https://yts.mx/assets/images/movies/The_Shawsh...</td>\n",
       "      <td>ok</td>\n",
       "      <td>[{'url': 'https://yts.mx/torrent/download/AC41...</td>\n",
       "      <td>2015-11-01 03:20:23</td>\n",
       "      <td>1.446344e+09</td>\n",
       "    </tr>\n",
       "    <tr>\n",
       "      <th>1725</th>\n",
       "      <td>15527</td>\n",
       "      <td>https://yts.mx/movie/top-gear-africa-special-p...</td>\n",
       "      <td>tt2741136</td>\n",
       "      <td>Top Gear Africa Special, Part 1</td>\n",
       "      <td>Top Gear Africa Special, Part 1</td>\n",
       "      <td>Top Gear Africa Special, Part 1 (2013)</td>\n",
       "      <td>top-gear-africa-special-part-1-2013</td>\n",
       "      <td>2013</td>\n",
       "      <td>9.2</td>\n",
       "      <td>59</td>\n",
       "      <td>[Adventure, Comedy, Reality-TV, Talk-Show]</td>\n",
       "      <td>In the first of a two-part Top Gear special, J...</td>\n",
       "      <td>In the first of a two-part Top Gear special, J...</td>\n",
       "      <td>In the first of a two-part Top Gear special, J...</td>\n",
       "      <td></td>\n",
       "      <td>English</td>\n",
       "      <td></td>\n",
       "      <td>https://yts.mx/assets/images/movies/top_gear_a...</td>\n",
       "      <td>https://yts.mx/assets/images/movies/top_gear_a...</td>\n",
       "      <td>https://yts.mx/assets/images/movies/top_gear_a...</td>\n",
       "      <td>https://yts.mx/assets/images/movies/top_gear_a...</td>\n",
       "      <td>https://yts.mx/assets/images/movies/top_gear_a...</td>\n",
       "      <td>ok</td>\n",
       "      <td>[{'url': 'https://yts.mx/torrent/download/D76F...</td>\n",
       "      <td>2020-02-23 01:25:37</td>\n",
       "      <td>1.582418e+09</td>\n",
       "    </tr>\n",
       "    <tr>\n",
       "      <th>13571</th>\n",
       "      <td>3304</td>\n",
       "      <td>https://yts.mx/movie/the-godfather-1972</td>\n",
       "      <td>tt0068646</td>\n",
       "      <td>The Godfather</td>\n",
       "      <td>The Godfather</td>\n",
       "      <td>The Godfather (1972)</td>\n",
       "      <td>the-godfather-1972</td>\n",
       "      <td>1972</td>\n",
       "      <td>9.2</td>\n",
       "      <td>175</td>\n",
       "      <td>[Action, Crime, Drama]</td>\n",
       "      <td>The Godfather \"Don\" Vito Corleone is the head ...</td>\n",
       "      <td>The Godfather \"Don\" Vito Corleone is the head ...</td>\n",
       "      <td>The Godfather \"Don\" Vito Corleone is the head ...</td>\n",
       "      <td>Ak19g0j10-Q</td>\n",
       "      <td>English</td>\n",
       "      <td></td>\n",
       "      <td>https://yts.mx/assets/images/movies/The_Godfat...</td>\n",
       "      <td>https://yts.mx/assets/images/movies/The_Godfat...</td>\n",
       "      <td>https://yts.mx/assets/images/movies/The_Godfat...</td>\n",
       "      <td>https://yts.mx/assets/images/movies/The_Godfat...</td>\n",
       "      <td>https://yts.mx/assets/images/movies/The_Godfat...</td>\n",
       "      <td>ok</td>\n",
       "      <td>[{'url': 'https://yts.mx/torrent/download/C168...</td>\n",
       "      <td>2015-11-01 02:36:37</td>\n",
       "      <td>1.446342e+09</td>\n",
       "    </tr>\n",
       "    <tr>\n",
       "      <th>7465</th>\n",
       "      <td>9717</td>\n",
       "      <td>https://yts.mx/movie/natsamrat-2016</td>\n",
       "      <td>tt5311546</td>\n",
       "      <td>Natsamrat</td>\n",
       "      <td>Natsamrat</td>\n",
       "      <td>Natsamrat (2016)</td>\n",
       "      <td>natsamrat-2016</td>\n",
       "      <td>2016</td>\n",
       "      <td>9.1</td>\n",
       "      <td>0</td>\n",
       "      <td>[Action, Drama, Family]</td>\n",
       "      <td>The film is a tragedy about a veteran theatre ...</td>\n",
       "      <td>The film is a tragedy about a veteran theatre ...</td>\n",
       "      <td>The film is a tragedy about a veteran theatre ...</td>\n",
       "      <td>DCXDyIsPEN8</td>\n",
       "      <td>English</td>\n",
       "      <td></td>\n",
       "      <td>https://yts.mx/assets/images/movies/natsamrat_...</td>\n",
       "      <td>https://yts.mx/assets/images/movies/natsamrat_...</td>\n",
       "      <td>https://yts.mx/assets/images/movies/natsamrat_...</td>\n",
       "      <td>https://yts.mx/assets/images/movies/natsamrat_...</td>\n",
       "      <td>https://yts.mx/assets/images/movies/natsamrat_...</td>\n",
       "      <td>ok</td>\n",
       "      <td>[{'url': 'https://yts.mx/torrent/download/9C24...</td>\n",
       "      <td>2018-11-12 08:18:51</td>\n",
       "      <td>1.542007e+09</td>\n",
       "    </tr>\n",
       "    <tr>\n",
       "      <th>587</th>\n",
       "      <td>16668</td>\n",
       "      <td>https://yts.mx/movie/wheels-2014</td>\n",
       "      <td>tt2170667</td>\n",
       "      <td>Wheels</td>\n",
       "      <td>Wheels</td>\n",
       "      <td>Wheels (2014)</td>\n",
       "      <td>wheels-2014</td>\n",
       "      <td>2014</td>\n",
       "      <td>9.0</td>\n",
       "      <td>115</td>\n",
       "      <td>[Drama]</td>\n",
       "      <td>\"WHEELS\" is an Award Winning dark humored dram...</td>\n",
       "      <td>\"WHEELS\" is an Award Winning dark humored dram...</td>\n",
       "      <td>\"WHEELS\" is an Award Winning dark humored dram...</td>\n",
       "      <td>AbRRGP4GJcM</td>\n",
       "      <td>English</td>\n",
       "      <td>R</td>\n",
       "      <td>https://yts.mx/assets/images/movies/wheels_201...</td>\n",
       "      <td>https://yts.mx/assets/images/movies/wheels_201...</td>\n",
       "      <td>https://yts.mx/assets/images/movies/wheels_201...</td>\n",
       "      <td>https://yts.mx/assets/images/movies/wheels_201...</td>\n",
       "      <td>https://yts.mx/assets/images/movies/wheels_201...</td>\n",
       "      <td>ok</td>\n",
       "      <td>[{'url': 'https://yts.mx/torrent/download/708C...</td>\n",
       "      <td>2020-04-13 13:08:54</td>\n",
       "      <td>1.586776e+09</td>\n",
       "    </tr>\n",
       "  </tbody>\n",
       "</table>\n",
       "</div>"
      ],
      "text/plain": [
       "          id  ... date_uploaded_unix\n",
       "13166   3709  ...       1.446344e+09\n",
       "1725   15527  ...       1.582418e+09\n",
       "13571   3304  ...       1.446342e+09\n",
       "7465    9717  ...       1.542007e+09\n",
       "587    16668  ...       1.586776e+09\n",
       "\n",
       "[5 rows x 26 columns]"
      ]
     },
     "execution_count": 6,
     "metadata": {
      "tags": []
     },
     "output_type": "execute_result"
    }
   ],
   "source": [
    "# sorts 'rating' in descending order for whole dataframe to check top rated movies\n",
    "df.sort_values('rating', ascending=False).head()"
   ]
  },
  {
   "cell_type": "code",
   "execution_count": 7,
   "metadata": {
    "colab": {
     "base_uri": "https://localhost:8080/",
     "height": 32
    },
    "colab_type": "code",
    "executionInfo": {
     "elapsed": 638,
     "status": "ok",
     "timestamp": 1588531632201,
     "user": {
      "displayName": "Ateet Maharjan",
      "photoUrl": "https://lh3.googleusercontent.com/a-/AOh14GgMg69jt0jHlF0Znx-X69CB5fJvcTbb-qd53TYUJCY=s64",
      "userId": "00997121521562654087"
     },
     "user_tz": 300
    },
    "id": "m_DSVtlKEOjU",
    "outputId": "3ab48576-b695-4f38-ef73-544191fafe17"
   },
   "outputs": [
    {
     "data": {
      "text/plain": [
       "(16871, 26)"
      ]
     },
     "execution_count": 7,
     "metadata": {
      "tags": []
     },
     "output_type": "execute_result"
    }
   ],
   "source": [
    "df.shape # <-- check dimension of the dataframe"
   ]
  },
  {
   "cell_type": "code",
   "execution_count": 8,
   "metadata": {
    "colab": {
     "base_uri": "https://localhost:8080/",
     "height": 131
    },
    "colab_type": "code",
    "executionInfo": {
     "elapsed": 615,
     "status": "ok",
     "timestamp": 1588531633457,
     "user": {
      "displayName": "Ateet Maharjan",
      "photoUrl": "https://lh3.googleusercontent.com/a-/AOh14GgMg69jt0jHlF0Znx-X69CB5fJvcTbb-qd53TYUJCY=s64",
      "userId": "00997121521562654087"
     },
     "user_tz": 300
    },
    "id": "UXC93w3-9lw_",
    "outputId": "02e8a64d-0016-4624-926e-9464f26043e8"
   },
   "outputs": [
    {
     "data": {
      "text/plain": [
       "Index(['id', 'url', 'imdb_code', 'title', 'title_english', 'title_long',\n",
       "       'slug', 'year', 'rating', 'runtime', 'genres', 'summary',\n",
       "       'description_full', 'synopsis', 'yt_trailer_code', 'language',\n",
       "       'mpa_rating', 'background_image', 'background_image_original',\n",
       "       'small_cover_image', 'medium_cover_image', 'large_cover_image', 'state',\n",
       "       'torrents', 'date_uploaded', 'date_uploaded_unix'],\n",
       "      dtype='object')"
      ]
     },
     "execution_count": 8,
     "metadata": {
      "tags": []
     },
     "output_type": "execute_result"
    }
   ],
   "source": [
    "df.columns # <-- check column names of dataframe"
   ]
  },
  {
   "cell_type": "markdown",
   "metadata": {
    "colab_type": "text",
    "id": "gU-ije5tjT9A"
   },
   "source": [
    "# Recommender system\n",
    "`Recommender system` is a system that seeks to predict or filter preferences according to the user's choices and recommends based on the content. Recommender systems are utilized in a variety of areas including movies, music, news, books, research articles, search queries, social tags, and products in general.\n",
    "\n",
    "### Types:\n",
    "- **Popularity based recommendation engine:** eg. trending list in YouTube or Netflix; keeps a track of view counts for each movie/video and then lists movies based on views in descending order(highest view count to lowest view count)\n",
    "\n",
    "- **Content based recommendation engine:** considers current user's liked movie as input, analyzes the contents of movie (synopsis of movie, genre, cast, director), ranks similar movie based on similarity score and recommends relevant movies to user\n",
    "\n",
    "- **Collaborative filtering based recommendation engine:** recommends to users based on other similar users\n",
    "\n",
    "- **Hybrid recommendation system:** combines properties of two or more type of recommendations"
   ]
  },
  {
   "cell_type": "markdown",
   "metadata": {
    "colab_type": "text",
    "id": "Pa5J4rfdjT9A"
   },
   "source": [
    "## Movie Description Based Recommender\n",
    "\n",
    "Here, lets try to build a simple content based recommender system using movie descriptions by leveraging scikit-learn library in python. \n",
    "Descriptions are qualitative data and requires to be dealt with qualitative method."
   ]
  },
  {
   "cell_type": "code",
   "execution_count": null,
   "metadata": {
    "colab": {},
    "colab_type": "code",
    "id": "JXedOVW5C4MV"
   },
   "outputs": [],
   "source": [
    "# filling all NaNs with blank string\n",
    "df['description_full'] = df['description_full'].fillna('')"
   ]
  },
  {
   "cell_type": "markdown",
   "metadata": {
    "colab_type": "text",
    "id": "HbjZnq-fjT9C"
   },
   "source": [
    "### Vectorizer: create sparse matrix\n",
    "Machine learning models requires texts to be in numeric form and we need to represent texts as vectors using `TfidfVectorizer`, a form of count vectorizer which creates sparse matrix based on the frequency of term in the document (rare terms has higher values). “Term Frequency – Inverse Document” Frequency which are the components of the resulting scores assigned to each word. TF-IDF are word frequency scores that try to highlight words that are more interesting, e.g. frequent in a document but not across documents."
   ]
  },
  {
   "cell_type": "code",
   "execution_count": null,
   "metadata": {
    "colab": {},
    "colab_type": "code",
    "id": "QIy7WU44DBYq"
   },
   "outputs": [],
   "source": [
    "tf = TfidfVectorizer(analyzer='word',ngram_range=(1, 2),min_df=0, stop_words='english')\n",
    "tfidf_matrix = tf.fit_transform(df['description_full']) #feeding combined strings(movie contents) to TfidfVectorizer() object"
   ]
  },
  {
   "cell_type": "code",
   "execution_count": 11,
   "metadata": {
    "colab": {
     "base_uri": "https://localhost:8080/",
     "height": 32
    },
    "colab_type": "code",
    "executionInfo": {
     "elapsed": 3380,
     "status": "ok",
     "timestamp": 1588531642451,
     "user": {
      "displayName": "Ateet Maharjan",
      "photoUrl": "https://lh3.googleusercontent.com/a-/AOh14GgMg69jt0jHlF0Znx-X69CB5fJvcTbb-qd53TYUJCY=s64",
      "userId": "00997121521562654087"
     },
     "user_tz": 300
    },
    "id": "mGwrsrgXDWU3",
    "outputId": "f781320d-0736-4226-f62f-4ee4fffbac6c"
   },
   "outputs": [
    {
     "data": {
      "text/plain": [
       "(16871, 609244)"
      ]
     },
     "execution_count": 11,
     "metadata": {
      "tags": []
     },
     "output_type": "execute_result"
    }
   ],
   "source": [
    "tfidf_matrix.shape"
   ]
  },
  {
   "cell_type": "markdown",
   "metadata": {
    "colab_type": "text",
    "id": "5VkYkwm8jT9G"
   },
   "source": [
    "### Cosine Similarity\n",
    "\n",
    "It is used to calculate a numeric quantity that denotes the similarity between two movies. \n",
    "Mathematically, it is defined as follows:\n",
    "\n",
    "cosine(x,y)=x.y⊺/||x||.||y||\n",
    " \n",
    "Since we have used the TF-IDF Vectorizer, calculating the Dot Product will directly give us the Cosine Similarity Score. Therefore, we will use sklearn's linear_kernel instead of cosine_similarities since it is much faster."
   ]
  },
  {
   "cell_type": "code",
   "execution_count": null,
   "metadata": {
    "colab": {},
    "colab_type": "code",
    "id": "_rwjWPDJDb3b"
   },
   "outputs": [],
   "source": [
    "from sklearn.metrics.pairwise import linear_kernel, cosine_similarity\n",
    "cosine_sim = linear_kernel(tfidf_matrix, tfidf_matrix)"
   ]
  },
  {
   "cell_type": "code",
   "execution_count": 13,
   "metadata": {
    "colab": {
     "base_uri": "https://localhost:8080/",
     "height": 49
    },
    "colab_type": "code",
    "executionInfo": {
     "elapsed": 5446,
     "status": "ok",
     "timestamp": 1588531647002,
     "user": {
      "displayName": "Ateet Maharjan",
      "photoUrl": "https://lh3.googleusercontent.com/a-/AOh14GgMg69jt0jHlF0Znx-X69CB5fJvcTbb-qd53TYUJCY=s64",
      "userId": "00997121521562654087"
     },
     "user_tz": 300
    },
    "id": "92PA7zSNDfCc",
    "outputId": "f257f3c3-072f-4f42-c622-f7cbea074064"
   },
   "outputs": [
    {
     "data": {
      "text/plain": [
       "array([1.        , 0.02503509, 0.00534012, ..., 0.00295387, 0.        ,\n",
       "       0.        ])"
      ]
     },
     "execution_count": 13,
     "metadata": {
      "tags": []
     },
     "output_type": "execute_result"
    }
   ],
   "source": [
    "# similarity value for first movie on the list\n",
    "cosine_sim[0]"
   ]
  },
  {
   "cell_type": "markdown",
   "metadata": {
    "colab_type": "text",
    "id": "l8s5uj2jjT9J"
   },
   "source": [
    "\n",
    "**We have a pairwise similarity matrix for all the movies in our dataset. # Lets create a function that returns the most similar movies based on the cosine similarity score.**"
   ]
  },
  {
   "cell_type": "code",
   "execution_count": null,
   "metadata": {
    "colab": {},
    "colab_type": "code",
    "id": "raFwJIOxDihH"
   },
   "outputs": [],
   "source": [
    "df = df.reset_index()  #reset all index values\n",
    "titles = df['title_long']  # pass column into titles variable\n",
    "indices = pd.Series(df.index, index=df['title'])  #get index of the series"
   ]
  },
  {
   "cell_type": "code",
   "execution_count": null,
   "metadata": {
    "colab": {},
    "colab_type": "code",
    "id": "W4fXfGD4jT9L"
   },
   "outputs": [],
   "source": [
    "# create a function that returns similar movies, looks into index that we got from above\n",
    "def get_recommendations(title):\n",
    "    idx = indices[title]\n",
    "    sim_scores = list(enumerate(cosine_sim[idx]))\n",
    "    sim_scores = sorted(sim_scores, key=lambda x: x[1], reverse=True)\n",
    "    sim_scores = sim_scores[1:31]\n",
    "    movie_indices = [i[0] for i in sim_scores]\n",
    "    return titles.iloc[movie_indices]"
   ]
  },
  {
   "cell_type": "markdown",
   "metadata": {
    "colab_type": "text",
    "id": "TA9Sv35RjT9M"
   },
   "source": [
    "### Getting recommendation of movies\n",
    "\n",
    "Let us now try and get the top recommendations for a few movies and see how good the recommendations are."
   ]
  },
  {
   "cell_type": "code",
   "execution_count": 16,
   "metadata": {
    "colab": {
     "base_uri": "https://localhost:8080/",
     "height": 197
    },
    "colab_type": "code",
    "executionInfo": {
     "elapsed": 2099,
     "status": "ok",
     "timestamp": 1588531647004,
     "user": {
      "displayName": "Ateet Maharjan",
      "photoUrl": "https://lh3.googleusercontent.com/a-/AOh14GgMg69jt0jHlF0Znx-X69CB5fJvcTbb-qd53TYUJCY=s64",
      "userId": "00997121521562654087"
     },
     "user_tz": 300
    },
    "id": "_a-CZBVLjT9M",
    "outputId": "ecccd9ac-eafa-4e53-de65-76024fb4e775"
   },
   "outputs": [
    {
     "data": {
      "text/plain": [
       "13869             That's My Boy (2012)\n",
       "11322                Blood Rage (1987)\n",
       "10430             Teen Wolf Too (1987)\n",
       "240              The Last Dance (2000)\n",
       "9801               Rainbow Time (2016)\n",
       "3088             The Wrong Todd (2018)\n",
       "14268                        RV (2006)\n",
       "5267     Infidelity in Suburbia (2017)\n",
       "5867      Beverly Hills Cop III (1994)\n",
       "2046     The Barefoot Executive (1971)\n",
       "Name: title_long, dtype: object"
      ]
     },
     "execution_count": 16,
     "metadata": {
      "tags": []
     },
     "output_type": "execute_result"
    }
   ],
   "source": [
    "# get title of movie that the user currently likes and give recommendation\n",
    "get_recommendations('The Entertainers').head(10)"
   ]
  },
  {
   "cell_type": "code",
   "execution_count": 17,
   "metadata": {
    "colab": {
     "base_uri": "https://localhost:8080/",
     "height": 197
    },
    "colab_type": "code",
    "executionInfo": {
     "elapsed": 644,
     "status": "ok",
     "timestamp": 1588531647004,
     "user": {
      "displayName": "Ateet Maharjan",
      "photoUrl": "https://lh3.googleusercontent.com/a-/AOh14GgMg69jt0jHlF0Znx-X69CB5fJvcTbb-qd53TYUJCY=s64",
      "userId": "00997121521562654087"
     },
     "user_tz": 300
    },
    "id": "yV86dd8AjT9O",
    "outputId": "30899368-d4c8-42e7-f5f9-5da62e77c266"
   },
   "outputs": [
    {
     "data": {
      "text/plain": [
       "13570                   The Godfather: Part II (1974)\n",
       "13569                  The Godfather: Part III (1990)\n",
       "2502                           Family Business (1989)\n",
       "6779                        The Valachi Papers (1972)\n",
       "11823                            The Seven-Ups (1973)\n",
       "9245                                 Roommates (1995)\n",
       "15478    Halloween: The Curse of Michael Myers (1995)\n",
       "9668                                 Linewatch (2008)\n",
       "9662                        The Last Godfather (2010)\n",
       "972                      After All These Years (2013)\n",
       "Name: title_long, dtype: object"
      ]
     },
     "execution_count": 17,
     "metadata": {
      "tags": []
     },
     "output_type": "execute_result"
    }
   ],
   "source": [
    "get_recommendations('The Godfather').head(10)"
   ]
  },
  {
   "cell_type": "markdown",
   "metadata": {
    "colab_type": "text",
    "id": "7C63DM-QjT9P"
   },
   "source": [
    "**Result:** The sytem is able to identify `The Godfather` as Godfather movie and recommends other godfather movies as its top recommendations. \n",
    "We can improve the system by including other important features such as cast, crew, director and genre, which determine the rating and the popularity of a movie."
   ]
  }
 ],
 "metadata": {
  "accelerator": "GPU",
  "colab": {
   "collapsed_sections": [],
   "name": "movierecommender_AM.ipynb",
   "provenance": []
  },
  "kernelspec": {
   "display_name": "Python 3",
   "language": "python",
   "name": "python3"
  },
  "language_info": {
   "codemirror_mode": {
    "name": "ipython",
    "version": 3
   },
   "file_extension": ".py",
   "mimetype": "text/x-python",
   "name": "python",
   "nbconvert_exporter": "python",
   "pygments_lexer": "ipython3",
   "version": "3.7.4-final"
  }
 },
 "nbformat": 4,
 "nbformat_minor": 4
}